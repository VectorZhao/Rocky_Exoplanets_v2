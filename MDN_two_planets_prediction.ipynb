{
 "cells": [
  {
   "cell_type": "code",
   "execution_count": 1,
   "metadata": {
    "ExecuteTime": {
     "end_time": "2022-10-17T02:52:02.171842Z",
     "start_time": "2022-10-17T02:51:57.431309Z"
    },
    "id": "kUhQYDrgiWsH"
   },
   "outputs": [],
   "source": [
    "import matplotlib.pyplot as plt\n",
    "import matplotlib.ticker as tck\n",
    "from matplotlib.ticker import (MultipleLocator, AutoMinorLocator)\n",
    "# import seaborn as sns\n",
    "\n",
    "import pandas as pd\n",
    "import numpy as np\n",
    "import math\n",
    "\n",
    "from tensorflow.keras.models import load_model\n",
    "\n",
    "import mdn\n",
    "import joblib\n",
    "\n",
    "# from sklearn.model_selection import train_test_split\n",
    "\n",
    "import matplotlib\n",
    "matplotlib.rcParams['svg.fonttype'] = 'none'\n",
    "matplotlib.rcParams['pdf.fonttype'] = 42\n",
    "matplotlib.rcParams['ps.fonttype'] = 42\n",
    "matplotlib.rcParams['font.family'] = 'Arial'\n",
    "matplotlib.rcParams['font.size'] = 12"
   ]
  },
  {
   "cell_type": "markdown",
   "metadata": {},
   "source": [
    "# MRFe/(Mg+Si)k2 prediction"
   ]
  },
  {
   "cell_type": "code",
   "execution_count": 2,
   "metadata": {
    "ExecuteTime": {
     "end_time": "2022-10-17T02:52:04.306017Z",
     "start_time": "2022-10-17T02:52:02.203841Z"
    },
    "id": "OHSSb5g_iWsK"
   },
   "outputs": [
    {
     "ename": "ModuleNotFoundError",
     "evalue": "No module named 'sklearn'",
     "output_type": "error",
     "traceback": [
      "\u001B[1;31m---------------------------------------------------------------------------\u001B[0m",
      "\u001B[1;31mModuleNotFoundError\u001B[0m                       Traceback (most recent call last)",
      "\u001B[1;32m~\\AppData\\Local\\Temp\\ipykernel_19692\\2450612377.py\u001B[0m in \u001B[0;36m<module>\u001B[1;34m\u001B[0m\n\u001B[0;32m     22\u001B[0m     \u001B[0mcompile\u001B[0m\u001B[1;33m=\u001B[0m\u001B[1;32mFalse\u001B[0m\u001B[1;33m\u001B[0m\u001B[1;33m\u001B[0m\u001B[0m\n\u001B[0;32m     23\u001B[0m )\n\u001B[1;32m---> 24\u001B[1;33m \u001B[0minput_scaler\u001B[0m \u001B[1;33m=\u001B[0m \u001B[0mjoblib\u001B[0m\u001B[1;33m.\u001B[0m\u001B[0mload\u001B[0m\u001B[1;33m(\u001B[0m\u001B[1;34m\"MDN_MRFe(Mg+Si)k2_Xscaler_20220917.save\"\u001B[0m\u001B[1;33m)\u001B[0m\u001B[1;33m\u001B[0m\u001B[1;33m\u001B[0m\u001B[0m\n\u001B[0m\u001B[0;32m     25\u001B[0m \u001B[0moutput_scaler\u001B[0m \u001B[1;33m=\u001B[0m \u001B[0mjoblib\u001B[0m\u001B[1;33m.\u001B[0m\u001B[0mload\u001B[0m\u001B[1;33m(\u001B[0m\u001B[1;34m\"MDN_MRFe(Mg+Si)k2_yscaler_20220917.save\"\u001B[0m\u001B[1;33m)\u001B[0m\u001B[1;33m\u001B[0m\u001B[1;33m\u001B[0m\u001B[0m\n",
      "\u001B[1;32m~\\anaconda3\\envs\\deepexo\\lib\\site-packages\\joblib\\numpy_pickle.py\u001B[0m in \u001B[0;36mload\u001B[1;34m(filename, mmap_mode)\u001B[0m\n\u001B[0;32m    603\u001B[0m                     \u001B[1;32mreturn\u001B[0m \u001B[0mload_compatibility\u001B[0m\u001B[1;33m(\u001B[0m\u001B[0mfobj\u001B[0m\u001B[1;33m)\u001B[0m\u001B[1;33m\u001B[0m\u001B[1;33m\u001B[0m\u001B[0m\n\u001B[0;32m    604\u001B[0m \u001B[1;33m\u001B[0m\u001B[0m\n\u001B[1;32m--> 605\u001B[1;33m                 \u001B[0mobj\u001B[0m \u001B[1;33m=\u001B[0m \u001B[0m_unpickle\u001B[0m\u001B[1;33m(\u001B[0m\u001B[0mfobj\u001B[0m\u001B[1;33m,\u001B[0m \u001B[0mfilename\u001B[0m\u001B[1;33m,\u001B[0m \u001B[0mmmap_mode\u001B[0m\u001B[1;33m)\u001B[0m\u001B[1;33m\u001B[0m\u001B[1;33m\u001B[0m\u001B[0m\n\u001B[0m\u001B[0;32m    606\u001B[0m \u001B[1;33m\u001B[0m\u001B[0m\n\u001B[0;32m    607\u001B[0m     \u001B[1;32mreturn\u001B[0m \u001B[0mobj\u001B[0m\u001B[1;33m\u001B[0m\u001B[1;33m\u001B[0m\u001B[0m\n",
      "\u001B[1;32m~\\anaconda3\\envs\\deepexo\\lib\\site-packages\\joblib\\numpy_pickle.py\u001B[0m in \u001B[0;36m_unpickle\u001B[1;34m(fobj, filename, mmap_mode)\u001B[0m\n\u001B[0;32m    527\u001B[0m     \u001B[0mobj\u001B[0m \u001B[1;33m=\u001B[0m \u001B[1;32mNone\u001B[0m\u001B[1;33m\u001B[0m\u001B[1;33m\u001B[0m\u001B[0m\n\u001B[0;32m    528\u001B[0m     \u001B[1;32mtry\u001B[0m\u001B[1;33m:\u001B[0m\u001B[1;33m\u001B[0m\u001B[1;33m\u001B[0m\u001B[0m\n\u001B[1;32m--> 529\u001B[1;33m         \u001B[0mobj\u001B[0m \u001B[1;33m=\u001B[0m \u001B[0munpickler\u001B[0m\u001B[1;33m.\u001B[0m\u001B[0mload\u001B[0m\u001B[1;33m(\u001B[0m\u001B[1;33m)\u001B[0m\u001B[1;33m\u001B[0m\u001B[1;33m\u001B[0m\u001B[0m\n\u001B[0m\u001B[0;32m    530\u001B[0m         \u001B[1;32mif\u001B[0m \u001B[0munpickler\u001B[0m\u001B[1;33m.\u001B[0m\u001B[0mcompat_mode\u001B[0m\u001B[1;33m:\u001B[0m\u001B[1;33m\u001B[0m\u001B[1;33m\u001B[0m\u001B[0m\n\u001B[0;32m    531\u001B[0m             warnings.warn(\"The file '%s' has been generated with a \"\n",
      "\u001B[1;32m~\\anaconda3\\envs\\deepexo\\lib\\pickle.py\u001B[0m in \u001B[0;36mload\u001B[1;34m(self)\u001B[0m\n\u001B[0;32m   1086\u001B[0m                     \u001B[1;32mraise\u001B[0m \u001B[0mEOFError\u001B[0m\u001B[1;33m\u001B[0m\u001B[1;33m\u001B[0m\u001B[0m\n\u001B[0;32m   1087\u001B[0m                 \u001B[1;32massert\u001B[0m \u001B[0misinstance\u001B[0m\u001B[1;33m(\u001B[0m\u001B[0mkey\u001B[0m\u001B[1;33m,\u001B[0m \u001B[0mbytes_types\u001B[0m\u001B[1;33m)\u001B[0m\u001B[1;33m\u001B[0m\u001B[1;33m\u001B[0m\u001B[0m\n\u001B[1;32m-> 1088\u001B[1;33m                 \u001B[0mdispatch\u001B[0m\u001B[1;33m[\u001B[0m\u001B[0mkey\u001B[0m\u001B[1;33m[\u001B[0m\u001B[1;36m0\u001B[0m\u001B[1;33m]\u001B[0m\u001B[1;33m]\u001B[0m\u001B[1;33m(\u001B[0m\u001B[0mself\u001B[0m\u001B[1;33m)\u001B[0m\u001B[1;33m\u001B[0m\u001B[1;33m\u001B[0m\u001B[0m\n\u001B[0m\u001B[0;32m   1089\u001B[0m         \u001B[1;32mexcept\u001B[0m \u001B[0m_Stop\u001B[0m \u001B[1;32mas\u001B[0m \u001B[0mstopinst\u001B[0m\u001B[1;33m:\u001B[0m\u001B[1;33m\u001B[0m\u001B[1;33m\u001B[0m\u001B[0m\n\u001B[0;32m   1090\u001B[0m             \u001B[1;32mreturn\u001B[0m \u001B[0mstopinst\u001B[0m\u001B[1;33m.\u001B[0m\u001B[0mvalue\u001B[0m\u001B[1;33m\u001B[0m\u001B[1;33m\u001B[0m\u001B[0m\n",
      "\u001B[1;32m~\\anaconda3\\envs\\deepexo\\lib\\pickle.py\u001B[0m in \u001B[0;36mload_global\u001B[1;34m(self)\u001B[0m\n\u001B[0;32m   1374\u001B[0m         \u001B[0mmodule\u001B[0m \u001B[1;33m=\u001B[0m \u001B[0mself\u001B[0m\u001B[1;33m.\u001B[0m\u001B[0mreadline\u001B[0m\u001B[1;33m(\u001B[0m\u001B[1;33m)\u001B[0m\u001B[1;33m[\u001B[0m\u001B[1;33m:\u001B[0m\u001B[1;33m-\u001B[0m\u001B[1;36m1\u001B[0m\u001B[1;33m]\u001B[0m\u001B[1;33m.\u001B[0m\u001B[0mdecode\u001B[0m\u001B[1;33m(\u001B[0m\u001B[1;34m\"utf-8\"\u001B[0m\u001B[1;33m)\u001B[0m\u001B[1;33m\u001B[0m\u001B[1;33m\u001B[0m\u001B[0m\n\u001B[0;32m   1375\u001B[0m         \u001B[0mname\u001B[0m \u001B[1;33m=\u001B[0m \u001B[0mself\u001B[0m\u001B[1;33m.\u001B[0m\u001B[0mreadline\u001B[0m\u001B[1;33m(\u001B[0m\u001B[1;33m)\u001B[0m\u001B[1;33m[\u001B[0m\u001B[1;33m:\u001B[0m\u001B[1;33m-\u001B[0m\u001B[1;36m1\u001B[0m\u001B[1;33m]\u001B[0m\u001B[1;33m.\u001B[0m\u001B[0mdecode\u001B[0m\u001B[1;33m(\u001B[0m\u001B[1;34m\"utf-8\"\u001B[0m\u001B[1;33m)\u001B[0m\u001B[1;33m\u001B[0m\u001B[1;33m\u001B[0m\u001B[0m\n\u001B[1;32m-> 1376\u001B[1;33m         \u001B[0mklass\u001B[0m \u001B[1;33m=\u001B[0m \u001B[0mself\u001B[0m\u001B[1;33m.\u001B[0m\u001B[0mfind_class\u001B[0m\u001B[1;33m(\u001B[0m\u001B[0mmodule\u001B[0m\u001B[1;33m,\u001B[0m \u001B[0mname\u001B[0m\u001B[1;33m)\u001B[0m\u001B[1;33m\u001B[0m\u001B[1;33m\u001B[0m\u001B[0m\n\u001B[0m\u001B[0;32m   1377\u001B[0m         \u001B[0mself\u001B[0m\u001B[1;33m.\u001B[0m\u001B[0mappend\u001B[0m\u001B[1;33m(\u001B[0m\u001B[0mklass\u001B[0m\u001B[1;33m)\u001B[0m\u001B[1;33m\u001B[0m\u001B[1;33m\u001B[0m\u001B[0m\n\u001B[0;32m   1378\u001B[0m     \u001B[0mdispatch\u001B[0m\u001B[1;33m[\u001B[0m\u001B[0mGLOBAL\u001B[0m\u001B[1;33m[\u001B[0m\u001B[1;36m0\u001B[0m\u001B[1;33m]\u001B[0m\u001B[1;33m]\u001B[0m \u001B[1;33m=\u001B[0m \u001B[0mload_global\u001B[0m\u001B[1;33m\u001B[0m\u001B[1;33m\u001B[0m\u001B[0m\n",
      "\u001B[1;32m~\\anaconda3\\envs\\deepexo\\lib\\pickle.py\u001B[0m in \u001B[0;36mfind_class\u001B[1;34m(self, module, name)\u001B[0m\n\u001B[0;32m   1424\u001B[0m             \u001B[1;32melif\u001B[0m \u001B[0mmodule\u001B[0m \u001B[1;32min\u001B[0m \u001B[0m_compat_pickle\u001B[0m\u001B[1;33m.\u001B[0m\u001B[0mIMPORT_MAPPING\u001B[0m\u001B[1;33m:\u001B[0m\u001B[1;33m\u001B[0m\u001B[1;33m\u001B[0m\u001B[0m\n\u001B[0;32m   1425\u001B[0m                 \u001B[0mmodule\u001B[0m \u001B[1;33m=\u001B[0m \u001B[0m_compat_pickle\u001B[0m\u001B[1;33m.\u001B[0m\u001B[0mIMPORT_MAPPING\u001B[0m\u001B[1;33m[\u001B[0m\u001B[0mmodule\u001B[0m\u001B[1;33m]\u001B[0m\u001B[1;33m\u001B[0m\u001B[1;33m\u001B[0m\u001B[0m\n\u001B[1;32m-> 1426\u001B[1;33m         \u001B[0m__import__\u001B[0m\u001B[1;33m(\u001B[0m\u001B[0mmodule\u001B[0m\u001B[1;33m,\u001B[0m \u001B[0mlevel\u001B[0m\u001B[1;33m=\u001B[0m\u001B[1;36m0\u001B[0m\u001B[1;33m)\u001B[0m\u001B[1;33m\u001B[0m\u001B[1;33m\u001B[0m\u001B[0m\n\u001B[0m\u001B[0;32m   1427\u001B[0m         \u001B[1;32mif\u001B[0m \u001B[0mself\u001B[0m\u001B[1;33m.\u001B[0m\u001B[0mproto\u001B[0m \u001B[1;33m>=\u001B[0m \u001B[1;36m4\u001B[0m\u001B[1;33m:\u001B[0m\u001B[1;33m\u001B[0m\u001B[1;33m\u001B[0m\u001B[0m\n\u001B[0;32m   1428\u001B[0m             \u001B[1;32mreturn\u001B[0m \u001B[0m_getattribute\u001B[0m\u001B[1;33m(\u001B[0m\u001B[0msys\u001B[0m\u001B[1;33m.\u001B[0m\u001B[0mmodules\u001B[0m\u001B[1;33m[\u001B[0m\u001B[0mmodule\u001B[0m\u001B[1;33m]\u001B[0m\u001B[1;33m,\u001B[0m \u001B[0mname\u001B[0m\u001B[1;33m)\u001B[0m\u001B[1;33m[\u001B[0m\u001B[1;36m0\u001B[0m\u001B[1;33m]\u001B[0m\u001B[1;33m\u001B[0m\u001B[1;33m\u001B[0m\u001B[0m\n",
      "\u001B[1;31mModuleNotFoundError\u001B[0m: No module named 'sklearn'"
     ]
    }
   ],
   "source": [
    "input_parameters = [\n",
    "    'Mass', \n",
    "    'Radius',\n",
    "    'Fe/(Mg+Si)',\n",
    "    'k_2',\n",
    "]\n",
    "\n",
    "output_parameters = [\n",
    "    'H2O_radial_frac',\n",
    "    'Mantle_radial_frac',\n",
    "    'Core_radial_frac',\n",
    "    'Core_mass_frac',\n",
    "    'P_CMB', \n",
    "    'T_CMB',\n",
    "]\n",
    "# load trained model and scaler\n",
    "OUTPUT_DIMS = len(output_parameters)\n",
    "N_MIXES = 20\n",
    "model = load_model(\n",
    "    \"MDN_MRFe(Mg+Si)k2_20220917.h5\", \n",
    "    custom_objects={\"MDN\": mdn.MDN(OUTPUT_DIMS, N_MIXES), \"mdn_loss_func\": mdn.get_mixture_loss_func(OUTPUT_DIMS,N_MIXES)},\n",
    "    compile=False\n",
    ")\n",
    "input_scaler = joblib.load(\"MDN_MRFe(Mg+Si)k2_Xscaler_20220917.save\")\n",
    "output_scaler = joblib.load(\"MDN_MRFe(Mg+Si)k2_yscaler_20220917.save\")\n"
   ]
  },
  {
   "cell_type": "markdown",
   "metadata": {
    "id": "DGCfAnYYiWsL"
   },
   "source": [
    "## Predict Kepler-78b"
   ]
  },
  {
   "cell_type": "markdown",
   "metadata": {},
   "source": [
    "### MDN model"
   ]
  },
  {
   "cell_type": "code",
   "execution_count": 3,
   "metadata": {
    "ExecuteTime": {
     "end_time": "2022-10-17T02:52:09.228401Z",
     "start_time": "2022-10-17T02:52:09.222400Z"
    },
    "id": "W0y2fOq0iWsL"
   },
   "outputs": [],
   "source": [
    "# input mass and radius for predicting must be earth units\n",
    "input_array = np.array(\n",
    "    [\n",
    "        [1.77],  # mass\n",
    "        [1.228],  # radius\n",
    "        [0.685],  # bulk Fe/(Mg+Si)\n",
    "        [0.819],  # k2\n",
    "    ]\n",
    ")\n",
    "scaled_input = input_scaler.transform(input_array.T)"
   ]
  },
  {
   "cell_type": "code",
   "execution_count": 4,
   "metadata": {
    "ExecuteTime": {
     "end_time": "2022-10-17T02:52:10.770472Z",
     "start_time": "2022-10-17T02:52:10.131479Z"
    },
    "colab": {
     "base_uri": "https://localhost:8080/"
    },
    "executionInfo": {
     "elapsed": 998,
     "status": "ok",
     "timestamp": 1617248997141,
     "user": {
      "displayName": "Vector Zhao",
      "photoUrl": "https://lh3.googleusercontent.com/a-/AOh14Ghd3FrP7k66YYE7kRBdxDz2xnB_I-RtbyItWFzX=s64",
      "userId": "13898113326268806207"
     },
     "user_tz": -480
    },
    "id": "fIg5F560iWsL",
    "outputId": "4d5338d2-a427-45b3-95f7-e9054abda16f",
    "scrolled": true
   },
   "outputs": [],
   "source": [
    "pred = model.predict(scaled_input)\n",
    "# # pred contains parameters for distributions, not actual points on the graph.\n",
    "# print(pred)\n",
    "# print(pred.shape)"
   ]
  },
  {
   "cell_type": "code",
   "execution_count": 5,
   "metadata": {
    "ExecuteTime": {
     "end_time": "2022-10-17T02:52:10.818473Z",
     "start_time": "2022-10-17T02:52:10.804477Z"
    }
   },
   "outputs": [],
   "source": [
    "y_min1,y_max1,y_min2,y_max2,y_min3,y_max3,y_min4,y_max4,y_min5,y_max5,y_min6,y_max6 = \\\n",
    "0.00015137, 0.145835, 0.127618, 0.973427, 0.00787023, 0.799449, 1.17976e-06, 0.699986, 10.7182, 1999.49, 1689.37, 5673.87"
   ]
  },
  {
   "cell_type": "code",
   "execution_count": 6,
   "metadata": {
    "ExecuteTime": {
     "end_time": "2022-10-17T02:52:15.283491Z",
     "start_time": "2022-10-17T02:52:14.724488Z"
    },
    "colab": {
     "base_uri": "https://localhost:8080/"
    },
    "executionInfo": {
     "elapsed": 910,
     "status": "ok",
     "timestamp": 1617249000269,
     "user": {
      "displayName": "Vector Zhao",
      "photoUrl": "https://lh3.googleusercontent.com/a-/AOh14Ghd3FrP7k66YYE7kRBdxDz2xnB_I-RtbyItWFzX=s64",
      "userId": "13898113326268806207"
     },
     "user_tz": -480
    },
    "id": "2KTNlCDGiWsL",
    "outputId": "4aa2ac50-2ee3-41ae-9fae-912909270ccb"
   },
   "outputs": [
    {
     "data": {
      "image/png": "[encoded data removed]",
      "text/plain": [
       "<Figure size 432x432 with 6 Axes>"
      ]
     },
     "metadata": {
      "needs_background": "light"
     },
     "output_type": "display_data"
    }
   ],
   "source": [
    "# split up the mixture parameters\n",
    "mus = np.apply_along_axis((lambda a: a[:N_MIXES*OUTPUT_DIMS]), 1, pred)\n",
    "sigs = np.apply_along_axis((lambda a: a[N_MIXES*OUTPUT_DIMS:2*N_MIXES*OUTPUT_DIMS]), 1, pred)\n",
    "pis = np.apply_along_axis((lambda a: mdn.softmax(a[-N_MIXES:])), 1, pred)\n",
    "\n",
    "for m in range(OUTPUT_DIMS):\n",
    "    locals()['mus'+str(m)] = []\n",
    "    locals()['sigs'+str(m)] = []\n",
    "#     print(m)\n",
    "    for n in range(20):\n",
    "#         print(n)\n",
    "        locals()['mus'+str(m)].append(mus[0][n*OUTPUT_DIMS + m])\n",
    "        locals()['sigs'+str(m)].append(sigs[0][n*OUTPUT_DIMS + m])\n",
    "\n",
    "\n",
    "\n",
    "x_max = [\n",
    "    1,\n",
    "    1,\n",
    "    1,\n",
    "    1,\n",
    "    1,\n",
    "    1,\n",
    "]\n",
    "x_maxlabels = [\n",
    "    y_min1+(y_max1-y_min1)*x_max[0],\n",
    "    y_min2+(y_max2-y_min2)*x_max[1],\n",
    "    y_min3+(y_max3-y_min3)*x_max[2],\n",
    "    y_min4+(y_max4-y_min4)*x_max[3],\n",
    "    y_min5+(y_max5-y_min5)*x_max[4],\n",
    "    y_min6+(y_max6-y_min6)*x_max[5],\n",
    "]\n",
    "\n",
    "wrf = []  # H2O_radial_frac\n",
    "mrf = []  # Mantle_radial_frac\n",
    "crf = []  # Core_radial_frac\n",
    "cmf = []  # Core mass frac\n",
    "pcmb = []  # CMB temperature\n",
    "tcmb = []  # CMB pressure\n",
    "\n",
    "\n",
    "for x1 in np.arange(0.02,0.15,0.04):\n",
    "    wrf.append((x1-y_min1)/(x_maxlabels[0]-y_min1)*x_max[0])\n",
    "for x2 in np.arange(0.2,1,0.2):\n",
    "    mrf.append((x2-y_min2)/(x_maxlabels[1]-y_min2)*x_max[1])\n",
    "for x3 in np.arange(0.1,0.9,0.2):\n",
    "    crf.append((x3-y_min3)/(x_maxlabels[2]-y_min3)*x_max[2])\n",
    "for x4 in np.arange(0.1,0.8,0.2):\n",
    "    cmf.append((x4-y_min4)/(x_maxlabels[3]-y_min4)*x_max[3])\n",
    "for x5 in np.arange(200, 2000, 400):\n",
    "    pcmb.append((x5-y_min5)/(x_maxlabels[4]-y_min5)*x_max[4])\n",
    "for x6 in np.arange(2000, 6000, 1000):\n",
    "    tcmb.append((x6-y_min6)/(x_maxlabels[5]-y_min6)*x_max[5])\n",
    "    \n",
    "xticklabels = [[round(x,2) for x in np.arange(0.02,0.15,0.04)],\n",
    "               [round(x,2) for x in np.arange(0.2,1,0.2)],\n",
    "               [round(x,2) for x in np.arange(0.1,0.9,0.2)],\n",
    "               [round(x,2) for x in np.arange(0.1,0.8,0.2)],\n",
    "               [round(x,2) for x in np.arange(200, 2000, 400)],\n",
    "               [round(x,2) for x in np.arange(2000, 6000, 1000)],\n",
    "              ]\n",
    "xticks = [wrf, mrf, crf, cmf, pcmb, tcmb]\n",
    "\n",
    "colors = [\n",
    "    \"steelblue\",\n",
    "    \"#EA7D1A\",\n",
    "    \"red\", \n",
    "    \"gold\", \n",
    "    \"#2ecc71\",\n",
    "    \"#03a9f4\"\n",
    "]\n",
    "predict_label = [\n",
    "    \"Water radial fraction\", \n",
    "    \"Mantle radial fraction\",\n",
    "    \"Core radial fraction\", \n",
    "    \"Core mass fraction\", \n",
    "    \"CMB pressure (102 GPa)\", \n",
    "    \"CMB temperature (103 K)\"\n",
    "]\n",
    "\n",
    "\n",
    "y_label = np.arange(0,1,0.001).reshape(-1,1)\n",
    "fig = plt.figure(figsize=(6,6))\n",
    "fig.subplots_adjust(hspace=0.7, wspace=0.2)\n",
    "for i in range(OUTPUT_DIMS):\n",
    "    ax = fig.add_subplot(3, 2, i+1)\n",
    "    # y_label = y_labels[:, i].reshape(-1,1)\n",
    "    # for i, label in zip(range(OUTPUT_DIMS), predict_label):\n",
    "#     fig, ax = plt.subplots(figsize=(8,4))\n",
    "    # label = \"Water radial fraction\"\n",
    "    ###################Earth###########################\n",
    "    mus_ = np.array(locals()['mus'+str(i)])\n",
    "    sigs_ = np.array(locals()['sigs'+str(i)])\n",
    "    factors = 1 / math.sqrt(2*math.pi) / sigs_\n",
    "    exponent = np.exp(-1/2*np.square((y_label-mus_)/sigs_))\n",
    "    GMM_PDF = np.sum(pis[0]*factors*exponent, axis=1); # 对多个高斯分布求和\n",
    "    plt.plot(\n",
    "        y_label, \n",
    "        GMM_PDF,\n",
    "        color=colors[i],\n",
    "#         label=label,\n",
    "        lw=2,\n",
    "        zorder=10,\n",
    "    )\n",
    "    ax.set_xlim(0, x_max[i])\n",
    "    ax.set_ylim(bottom=0)\n",
    "    \n",
    "    ax.xaxis.set_minor_locator(AutoMinorLocator())\n",
    "    ax.yaxis.set_minor_locator(AutoMinorLocator())\n",
    "#     print(xticks[i])\n",
    "#     xticklabels[i]\n",
    "    ax.set_xticks(xticks[i])\n",
    "    ax.set_xticklabels(xticklabels[i])\n",
    "    ax.set_xlabel(predict_label[i])\n",
    "#     ax.set_ylabel(\"Probability density\")\n",
    "# plt.tight_layout()\n",
    "# plt.savefig('MRCk2_mdn_pred_Kepler-78b_20220925.pdf')"
   ]
  },
  {
   "cell_type": "markdown",
   "metadata": {},
   "source": [
    "### Physical model"
   ]
  },
  {
   "cell_type": "code",
   "execution_count": 9,
   "metadata": {
    "ExecuteTime": {
     "end_time": "2022-10-17T02:53:07.183792Z",
     "start_time": "2022-10-17T02:53:06.543793Z"
    }
   },
   "outputs": [],
   "source": [
    "df_k = pd.read_csv('Kepler 78b.txt', sep='\\t')\n",
    "df_k.drop(columns=df_k.columns[0], inplace=True)  # delete useless column 0\n"
   ]
  },
  {
   "cell_type": "code",
   "execution_count": 10,
   "metadata": {
    "ExecuteTime": {
     "end_time": "2022-10-17T02:53:09.702226Z",
     "start_time": "2022-10-17T02:53:08.805239Z"
    }
   },
   "outputs": [
    {
     "name": "stdout",
     "output_type": "stream",
     "text": [
      "0.145835\n",
      "0.973427\n",
      "0.799449\n",
      "0.699986\n",
      "1999.49\n",
      "5673.87\n"
     ]
    },
    {
     "data": {
      "image/png": "[encoded data removed]",
      "text/plain": [
       "<Figure size 432x432 with 6 Axes>"
      ]
     },
     "metadata": {
      "needs_background": "light"
     },
     "output_type": "display_data"
    }
   ],
   "source": [
    "df_k1 = df_k[df_k['sigma_MRCk2']<=0.02]\n",
    "\n",
    "inputs = ['Mass Earth_mass', 'Radius Earth_radius', 'Fe/(Si+Mg)', 'static Love number k2']\n",
    "outputs = ['water radial frac', 'mantle radial frac', 'core radial frac', 'core mass frac', 'CMB press (GPa)', 'CMB temp (K)']\n",
    "\n",
    "\n",
    "x_max = [\n",
    "    1,\n",
    "    1,\n",
    "    1,\n",
    "    1,\n",
    "    1,\n",
    "    1,\n",
    "]\n",
    "x_maxlabels = [\n",
    "    y_min1+(y_max1-y_min1)*x_max[0],\n",
    "    y_min2+(y_max2-y_min2)*x_max[1],\n",
    "    y_min3+(y_max3-y_min3)*x_max[2],\n",
    "    y_min4+(y_max4-y_min4)*x_max[3],\n",
    "    y_min5+(y_max5-y_min5)*x_max[4],\n",
    "    y_min6+(y_max6-y_min6)*x_max[5],\n",
    "]\n",
    "\n",
    "wrf = []  # H2O_radial_frac\n",
    "mrf = []  # Mantle_radial_frac\n",
    "crf = []  # Core_radial_frac\n",
    "cmf = []  # Core mass frac\n",
    "pcmb = []  # CMB temperature\n",
    "tcmb = []  # CMB pressure\n",
    "\n",
    "\n",
    "for x1 in np.arange(0.02,0.15,0.04):\n",
    "    wrf.append((x1-y_min1)/(x_maxlabels[0]-y_min1)*x_max[0])\n",
    "for x2 in np.arange(0.2,1,0.2):\n",
    "    mrf.append((x2-y_min2)/(x_maxlabels[1]-y_min2)*x_max[1])\n",
    "for x3 in np.arange(0.1,0.9,0.2):\n",
    "    crf.append((x3-y_min3)/(x_maxlabels[2]-y_min3)*x_max[2])\n",
    "for x4 in np.arange(0.1,0.8,0.2):\n",
    "    cmf.append((x4-y_min4)/(x_maxlabels[3]-y_min4)*x_max[3])\n",
    "for x5 in np.arange(200, 2000, 400):\n",
    "    pcmb.append((x5-y_min5)/(x_maxlabels[4]-y_min5)*x_max[4])\n",
    "for x6 in np.arange(2000, 6000, 1000):\n",
    "    tcmb.append((x6-y_min6)/(x_maxlabels[5]-y_min6)*x_max[5])\n",
    "    \n",
    "xticklabels = [[round(x,2) for x in np.arange(0.02,0.15,0.04)],\n",
    "               [round(x,2) for x in np.arange(0.2,1,0.2)],\n",
    "               [round(x,2) for x in np.arange(0.1,0.9,0.2)],\n",
    "               [round(x,2) for x in np.arange(0.1,0.8,0.2)],\n",
    "               [round(x,2) for x in np.arange(200, 2000, 400)],\n",
    "               [round(x,2) for x in np.arange(2000, 6000, 1000)],\n",
    "              ]\n",
    "xticks = [wrf, mrf, crf, cmf, pcmb, tcmb]\n",
    "fig = plt.figure(figsize=(6,6))\n",
    "\n",
    "fig.subplots_adjust(hspace=0.7, wspace=0.2)\n",
    "\n",
    "x_max = [\n",
    "    y_min1+(y_max1-y_min1)*1,\n",
    "    y_min2+(y_max2-y_min2)*1,\n",
    "    y_min3+(y_max3-y_min3)*1,\n",
    "    y_min4+(y_max4-y_min4)*1,\n",
    "    y_min5+(y_max5-y_min5)*1,\n",
    "    y_min6+(y_max6-y_min6)*1,\n",
    "]\n",
    "for f in range(0,6):\n",
    "    ax = fig.add_subplot(3, 2, f+1)\n",
    "    y_min = locals()['y_min'+str(f+1)]\n",
    "    y_max = locals()['y_max'+str(f+1)]\n",
    "    print(y_max)\n",
    "    sns.kdeplot(df_k1[outputs[f]], color=colors[f],fill=True,linewidth=0,bw_adjust=1,)\n",
    "    ax.set_xlim(y_min, y_max)\n",
    "    ax.set_ylim(bottom=0)\n",
    "    \n",
    "#     print(xticks[i])\n",
    "#     xticklabels[i]\n",
    "\n",
    "    ax.set_xticks(xticklabels[f])\n",
    "#     ax.set_xticklabels(xticklabels[f])\n",
    "    ax.set_xlabel(predict_label[f])\n",
    "    ax.set_ylabel(None)\n",
    "    ax.xaxis.set_minor_locator(AutoMinorLocator())\n",
    "    ax.yaxis.set_minor_locator(AutoMinorLocator())\n",
    "    formatter = tck.ScalarFormatter(useMathText=True)\n",
    "    formatter.set_scientific(True) \n",
    "    formatter.set_powerlimits((-2,2))\n",
    "    ax.yaxis.set_major_formatter(formatter)\n",
    "# plt.tight_layout()\n",
    "# plt.savefig('MRCk2_phy_pred_Kepler-78b_20220925.pdf')"
   ]
  },
  {
   "cell_type": "markdown",
   "metadata": {},
   "source": [
    "## Predict HD3167b"
   ]
  },
  {
   "cell_type": "markdown",
   "metadata": {},
   "source": [
    "### MDN model"
   ]
  },
  {
   "cell_type": "code",
   "execution_count": 11,
   "metadata": {
    "ExecuteTime": {
     "end_time": "2022-10-17T02:53:21.386538Z",
     "start_time": "2022-10-17T02:53:20.791542Z"
    }
   },
   "outputs": [
    {
     "data": {
      "image/png": "[encoded data removed]",
      "text/plain": [
       "<Figure size 432x432 with 6 Axes>"
      ]
     },
     "metadata": {
      "needs_background": "light"
     },
     "output_type": "display_data"
    }
   ],
   "source": [
    "# input mass and radius for predicting must be earth units\n",
    "input_array2 = np.array(\n",
    "    [\n",
    "        [5.69],  # mass\n",
    "        [1.574],  # radius\n",
    "        [0.630],  # bulk Fe/(Mg+Si)\n",
    "        [0.854],  # k2\n",
    "    ]\n",
    ")\n",
    "scaled_input2 = input_scaler.transform(input_array2.T)\n",
    "\n",
    "pred2 = model.predict(scaled_input2)\n",
    "\n",
    "\n",
    "# split up the mixture parameters\n",
    "mus = np.apply_along_axis((lambda a: a[:N_MIXES*OUTPUT_DIMS]), 1, pred2)\n",
    "sigs = np.apply_along_axis((lambda a: a[N_MIXES*OUTPUT_DIMS:2*N_MIXES*OUTPUT_DIMS]), 1, pred2)\n",
    "pis = np.apply_along_axis((lambda a: mdn.softmax(a[-N_MIXES:])), 1, pred2)\n",
    "\n",
    "for m in range(OUTPUT_DIMS):\n",
    "    locals()['mus'+str(m)] = []\n",
    "    locals()['sigs'+str(m)] = []\n",
    "#     print(m)\n",
    "    for n in range(20):\n",
    "#         print(n)\n",
    "        locals()['mus'+str(m)].append(mus[0][n*OUTPUT_DIMS + m])\n",
    "        locals()['sigs'+str(m)].append(sigs[0][n*OUTPUT_DIMS + m])\n",
    "\n",
    "\n",
    "\n",
    "x_max = [\n",
    "    1,\n",
    "    1,\n",
    "    1,\n",
    "    1,\n",
    "    1,\n",
    "    1,\n",
    "]\n",
    "x_maxlabels = [\n",
    "    y_min1+(y_max1-y_min1)*x_max[0],\n",
    "    y_min2+(y_max2-y_min2)*x_max[1],\n",
    "    y_min3+(y_max3-y_min3)*x_max[2],\n",
    "    y_min4+(y_max4-y_min4)*x_max[3],\n",
    "    y_min5+(y_max5-y_min5)*x_max[4],\n",
    "    y_min6+(y_max6-y_min6)*x_max[5],\n",
    "]\n",
    "\n",
    "wrf = []  # H2O_radial_frac\n",
    "mrf = []  # Mantle_radial_frac\n",
    "crf = []  # Core_radial_frac\n",
    "cmf = []  # Core mass frac\n",
    "pcmb = []  # CMB temperature\n",
    "tcmb = []  # CMB pressure\n",
    "\n",
    "\n",
    "for x1 in np.arange(0.02,0.15,0.04):\n",
    "    wrf.append((x1-y_min1)/(x_maxlabels[0]-y_min1)*x_max[0])\n",
    "for x2 in np.arange(0.2,1,0.2):\n",
    "    mrf.append((x2-y_min2)/(x_maxlabels[1]-y_min2)*x_max[1])\n",
    "for x3 in np.arange(0.1,0.9,0.2):\n",
    "    crf.append((x3-y_min3)/(x_maxlabels[2]-y_min3)*x_max[2])\n",
    "for x4 in np.arange(0.1,0.8,0.2):\n",
    "    cmf.append((x4-y_min4)/(x_maxlabels[3]-y_min4)*x_max[3])\n",
    "for x5 in np.arange(200, 2000, 400):\n",
    "    pcmb.append((x5-y_min5)/(x_maxlabels[4]-y_min5)*x_max[4])\n",
    "for x6 in np.arange(2000, 6000, 1000):\n",
    "    tcmb.append((x6-y_min6)/(x_maxlabels[5]-y_min6)*x_max[5])\n",
    "    \n",
    "xticklabels = [[round(x,2) for x in np.arange(0.02,0.15,0.04)],\n",
    "               [round(x,2) for x in np.arange(0.2,1,0.2)],\n",
    "               [round(x,2) for x in np.arange(0.1,0.9,0.2)],\n",
    "               [round(x,2) for x in np.arange(0.1,0.8,0.2)],\n",
    "               [round(x,2) for x in np.arange(200, 2000, 400)],\n",
    "               [round(x,2) for x in np.arange(2000, 6000, 1000)],\n",
    "              ]\n",
    "xticks = [wrf, mrf, crf, cmf, pcmb, tcmb]\n",
    "\n",
    "colors = [\n",
    "    \"steelblue\",\n",
    "    \"#EA7D1A\",\n",
    "    \"red\", \n",
    "    \"gold\", \n",
    "    \"#2ecc71\",\n",
    "    \"#03a9f4\"\n",
    "]\n",
    "pred2ict_label = [\n",
    "    \"Water radial fraction\", \n",
    "    \"Mantle radial fraction\",\n",
    "    \"Core radial fraction\", \n",
    "    \"Core mass fraction\", \n",
    "    \"CMB pressure ($10^2$ GPa)\", \n",
    "    \"CMB temperature ($10^3$ K)\"\n",
    "]\n",
    "\n",
    "\n",
    "y_label = np.arange(0,1,0.001).reshape(-1,1)\n",
    "fig = plt.figure(figsize=(6,6))\n",
    "fig.subplots_adjust(hspace=0.7, wspace=0.2)\n",
    "for i in range(OUTPUT_DIMS):\n",
    "    ax = fig.add_subplot(3, 2, i+1)\n",
    "    # y_label = y_labels[:, i].reshape(-1,1)\n",
    "    # for i, label in zip(range(OUTPUT_DIMS), pred2ict_label):\n",
    "#     fig, ax = plt.subplots(figsize=(8,4))\n",
    "    # label = \"Water radial fraction\"\n",
    "    ###################Earth###########################\n",
    "    mus_ = np.array(locals()['mus'+str(i)])\n",
    "    sigs_ = np.array(locals()['sigs'+str(i)])\n",
    "    factors = 1 / math.sqrt(2*math.pi) / sigs_\n",
    "    exponent = np.exp(-1/2*np.square((y_label-mus_)/sigs_))\n",
    "    GMM_PDF = np.sum(pis[0]*factors*exponent, axis=1); # 对多个高斯分布求和\n",
    "    plt.plot(\n",
    "        y_label, \n",
    "        GMM_PDF,\n",
    "        color=colors[i],\n",
    "#         label=label,\n",
    "        lw=2,\n",
    "        zorder=10,\n",
    "    )\n",
    "    ax.set_xlim(0, x_max[i])\n",
    "    ax.set_ylim(bottom=0)\n",
    "    ax.xaxis.set_minor_locator(AutoMinorLocator())\n",
    "    ax.yaxis.set_minor_locator(AutoMinorLocator())\n",
    "    ax.ticklabel_format(style='sci',scilimits=(-3,4),axis='both')\n",
    "#     print(xticks[i])\n",
    "#     xticklabels[i]\n",
    "    ax.set_xticks(xticks[i])\n",
    "    ax.set_xticklabels(xticklabels[i])\n",
    "    ax.set_xlabel(pred2ict_label[i])\n",
    "    ax.set_ylabel(None)\n",
    "# plt.tight_layout()\n",
    "# plt.savefig('MRCk2_mdn_pred_HD3167b_20220925.pdf')"
   ]
  },
  {
   "cell_type": "markdown",
   "metadata": {},
   "source": [
    "### Physical model"
   ]
  },
  {
   "cell_type": "code",
   "execution_count": 12,
   "metadata": {
    "ExecuteTime": {
     "end_time": "2022-10-17T02:53:29.590850Z",
     "start_time": "2022-10-17T02:53:29.044116Z"
    }
   },
   "outputs": [],
   "source": [
    "df_h = pd.read_csv('HD3167b.txt', sep='\\t')\n",
    "df_h.drop(columns=df_h.columns[0], inplace=True)  # delete useless column 0"
   ]
  },
  {
   "cell_type": "code",
   "execution_count": 13,
   "metadata": {
    "ExecuteTime": {
     "end_time": "2022-10-17T02:53:34.722949Z",
     "start_time": "2022-10-17T02:53:34.022817Z"
    }
   },
   "outputs": [
    {
     "name": "stdout",
     "output_type": "stream",
     "text": [
      "0.145835\n",
      "0.973427\n",
      "0.799449\n",
      "0.699986\n",
      "1999.49\n",
      "5673.87\n"
     ]
    },
    {
     "data": {
      "image/png": "[encoded data removed]",
      "text/plain": [
       "<Figure size 432x432 with 6 Axes>"
      ]
     },
     "metadata": {
      "needs_background": "light"
     },
     "output_type": "display_data"
    }
   ],
   "source": [
    "df_h1 = df_h[df_h['sigma_MRCk2']<=0.02]\n",
    "\n",
    "inputs = ['Mass Earth_mass', 'Radius Earth_radius', 'Fe/(Si+Mg)', 'static Love number k2']\n",
    "outputs = ['water radial frac', 'mantle radial frac', 'core radial frac', 'core mass frac', 'CMB press (GPa)', 'CMB temp (K)']\n",
    "\n",
    "x_max = [\n",
    "    1,\n",
    "    1,\n",
    "    1,\n",
    "    1,\n",
    "    1,\n",
    "    1,\n",
    "]\n",
    "x_maxlabels = [\n",
    "    y_min1+(y_max1-y_min1)*x_max[0],\n",
    "    y_min2+(y_max2-y_min2)*x_max[1],\n",
    "    y_min3+(y_max3-y_min3)*x_max[2],\n",
    "    y_min4+(y_max4-y_min4)*x_max[3],\n",
    "    y_min5+(y_max5-y_min5)*x_max[4],\n",
    "    y_min6+(y_max6-y_min6)*x_max[5],\n",
    "]\n",
    "\n",
    "wrf = []  # H2O_radial_frac\n",
    "mrf = []  # Mantle_radial_frac\n",
    "crf = []  # Core_radial_frac\n",
    "cmf = []  # Core mass frac\n",
    "pcmb = []  # CMB temperature\n",
    "tcmb = []  # CMB pressure\n",
    "\n",
    "\n",
    "for x1 in np.arange(0.02,0.15,0.04):\n",
    "    wrf.append((x1-y_min1)/(x_maxlabels[0]-y_min1)*x_max[0])\n",
    "for x2 in np.arange(0.2,1,0.2):\n",
    "    mrf.append((x2-y_min2)/(x_maxlabels[1]-y_min2)*x_max[1])\n",
    "for x3 in np.arange(0.1,0.9,0.2):\n",
    "    crf.append((x3-y_min3)/(x_maxlabels[2]-y_min3)*x_max[2])\n",
    "for x4 in np.arange(0.1,0.8,0.2):\n",
    "    cmf.append((x4-y_min4)/(x_maxlabels[3]-y_min4)*x_max[3])\n",
    "for x5 in np.arange(200, 2000, 400):\n",
    "    pcmb.append((x5-y_min5)/(x_maxlabels[4]-y_min5)*x_max[4])\n",
    "for x6 in np.arange(2000, 6000, 1000):\n",
    "    tcmb.append((x6-y_min6)/(x_maxlabels[5]-y_min6)*x_max[5])\n",
    "    \n",
    "xticklabels = [[round(x,2) for x in np.arange(0.02,0.15,0.04)],\n",
    "               [round(x,2) for x in np.arange(0.2,1,0.2)],\n",
    "               [round(x,2) for x in np.arange(0.1,0.9,0.2)],\n",
    "               [round(x,2) for x in np.arange(0.1,0.8,0.2)],\n",
    "               [round(x,2) for x in np.arange(200, 2000, 400)],\n",
    "               [round(x,2) for x in np.arange(2000, 6000, 1000)],\n",
    "              ]\n",
    "xticks = [wrf, mrf, crf, cmf, pcmb, tcmb]\n",
    "fig = plt.figure(figsize=(6,6))\n",
    "fig.subplots_adjust(hspace=0.7, wspace=0.2)\n",
    "\n",
    "\n",
    "\n",
    "x_max = [\n",
    "    y_min1+(y_max1-y_min1)*1,\n",
    "    y_min2+(y_max2-y_min2)*1,\n",
    "    y_min3+(y_max3-y_min3)*1,\n",
    "    y_min4+(y_max4-y_min4)*1,\n",
    "    y_min5+(y_max5-y_min5)*1,\n",
    "    y_min6+(y_max6-y_min6)*1,\n",
    "]\n",
    "for f in range(0,6):\n",
    "    ax = fig.add_subplot(3, 2, f+1)\n",
    "    y_min = locals()['y_min'+str(f+1)]\n",
    "    y_max = locals()['y_max'+str(f+1)]\n",
    "    print(y_max)\n",
    "    sns.kdeplot(df_h1[outputs[f]], color=colors[f],fill=True,linewidth=0,bw_adjust=0.7,)\n",
    "    ax.set_xlim(y_min, y_max)\n",
    "    ax.set_ylim(bottom=0)\n",
    "    \n",
    "#     print(xticks[i])\n",
    "#     xticklabels[i]\n",
    "\n",
    "    ax.set_xticks(xticklabels[f])\n",
    "#     ax.set_xticklabels(xticklabels[f])\n",
    "    ax.set_xlabel(predict_label[f])\n",
    "    ax.set_ylabel(None)\n",
    "    ax.xaxis.set_minor_locator(AutoMinorLocator())\n",
    "    ax.yaxis.set_minor_locator(AutoMinorLocator())\n",
    "    formatter = tck.ScalarFormatter(useMathText=True)\n",
    "    formatter.set_scientific(True) \n",
    "    formatter.set_powerlimits((-2,2))\n",
    "    ax.yaxis.set_major_formatter(formatter)\n",
    "# plt.tight_layout()\n",
    "# plt.savefig('MRCk2_phy_pred_HD3167b_20220925.pdf')"
   ]
  },
  {
   "cell_type": "code",
   "execution_count": null,
   "metadata": {},
   "outputs": [],
   "source": []
  }
 ],
 "metadata": {
  "colab": {
   "collapsed_sections": [],
   "name": "MDN_prediction.ipynb",
   "provenance": [],
   "toc_visible": true
  },
  "hide_input": false,
  "kernelspec": {
   "display_name": "Python 3 (ipykernel)",
   "language": "python",
   "name": "python3"
  },
  "language_info": {
   "codemirror_mode": {
    "name": "ipython",
    "version": 3
   },
   "file_extension": ".py",
   "mimetype": "text/x-python",
   "name": "python",
   "nbconvert_exporter": "python",
   "pygments_lexer": "ipython3",
   "version": "3.7.6"
  },
  "toc": {
   "base_numbering": 1,
   "nav_menu": {},
   "number_sections": true,
   "sideBar": true,
   "skip_h1_title": false,
   "title_cell": "Table of Contents",
   "title_sidebar": "Contents",
   "toc_cell": false,
   "toc_position": {
    "height": "calc(100% - 180px)",
    "left": "10px",
    "top": "150px",
    "width": "210.825px"
   },
   "toc_section_display": true,
   "toc_window_display": true
  },
  "varInspector": {
   "cols": {
    "lenName": 16,
    "lenType": 16,
    "lenVar": 40
   },
   "kernels_config": {
    "python": {
     "delete_cmd_postfix": "",
     "delete_cmd_prefix": "del ",
     "library": "var_list.py",
     "varRefreshCmd": "print(var_dic_list())"
    },
    "r": {
     "delete_cmd_postfix": ") ",
     "delete_cmd_prefix": "rm(",
     "library": "var_list.r",
     "varRefreshCmd": "cat(var_dic_list()) "
    }
   },
   "types_to_exclude": [
    "module",
    "function",
    "builtin_function_or_method",
    "instance",
    "_Feature"
   ],
   "window_display": false
  }
 },
 "nbformat": 4,
 "nbformat_minor": 1
}
